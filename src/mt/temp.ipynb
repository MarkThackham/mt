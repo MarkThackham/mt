{
 "cells": [
  {
   "cell_type": "code",
   "execution_count": 1,
   "metadata": {},
   "outputs": [],
   "source": [
    "import pandas as pd\n",
    "import numpy as np\n",
    "from univariate import *\n",
    "\n",
    "df = pd.read_csv('../../data/pima-indians-diabetes.data.txt')"
   ]
  },
  {
   "cell_type": "code",
   "execution_count": 7,
   "metadata": {},
   "outputs": [
    {
     "data": {
      "text/plain": [
       "[Outcome           0   1  Total     P0        P1       woe   iv_comp\n",
       " Preg                                                               \n",
       " (-999.0, 1.75]  179  67    246  0.358  0.250000 -0.359072  0.038780\n",
       " (1.75, 4.0]     177  69    246  0.354  0.257463 -0.318422  0.030740\n",
       " (4.0, 8.0]      106  84    190  0.212  0.313433  0.390999  0.039660\n",
       " (8.0, 999.0]     38  48     86  0.076  0.179104  0.857236  0.088385,\n",
       " np.float64(0.19756438461221665)]"
      ]
     },
     "execution_count": 7,
     "metadata": {},
     "output_type": "execute_result"
    }
   ],
   "source": [
    "woe_iv_calc(y_true=df['Outcome'], feature=df['Preg'], num_bins=4)"
   ]
  },
  {
   "cell_type": "code",
   "execution_count": 11,
   "metadata": {},
   "outputs": [
    {
     "data": {
      "text/plain": [
       "pandas.core.series.Series"
      ]
     },
     "execution_count": 11,
     "metadata": {},
     "output_type": "execute_result"
    }
   ],
   "source": [
    "y_true = [0, 0, 0, 0, 1, 1]\n",
    "feature = pd.Series([0.1, 0.2, 0.3, 0.8, 0.9, 0.7])\n",
    "\n",
    "\n",
    "feature\n",
    "\n",
    "#woe_iv_calc(y_true=y_true, feature=feature, num_bins=4)\n"
   ]
  },
  {
   "cell_type": "code",
   "execution_count": 10,
   "metadata": {},
   "outputs": [
    {
     "data": {
      "text/plain": [
       "0.3751"
      ]
     },
     "execution_count": 10,
     "metadata": {},
     "output_type": "execute_result"
    }
   ],
   "source": [
    "gini(y_true=df['Outcome'], y_pred=df['BMI'])\n"
   ]
  },
  {
   "cell_type": "code",
   "execution_count": 2,
   "metadata": {},
   "outputs": [
    {
     "name": "stdout",
     "output_type": "stream",
     "text": [
      "<class 'pandas.core.frame.DataFrame'>\n",
      "RangeIndex: 768 entries, 0 to 767\n",
      "Data columns (total 9 columns):\n",
      " #   Column       Non-Null Count  Dtype  \n",
      "---  ------       --------------  -----  \n",
      " 0   Preg         768 non-null    int64  \n",
      " 1   GlucPlasma   768 non-null    int64  \n",
      " 2   BP           768 non-null    int64  \n",
      " 3   SkinTriceps  768 non-null    int64  \n",
      " 4   Insulin      768 non-null    int64  \n",
      " 5   BMI          768 non-null    float64\n",
      " 6   DPF          768 non-null    float64\n",
      " 7   Age          768 non-null    int64  \n",
      " 8   Outcome      768 non-null    int64  \n",
      "dtypes: float64(2), int64(7)\n",
      "memory usage: 54.1 KB\n"
     ]
    }
   ],
   "source": [
    "#================================================================================\n",
    "# Step 1: Read Data\n",
    "\n",
    "# Preg - Number of times pregnant Numeric\n",
    "# GlucPlasma - glucose concentration at 2 Hours in an oral glucose tolerance test (GTIT)\n",
    "# BP - Diastolic Blood Pressure (mm Hg)\n",
    "# Skin Triceps - skin fold thickness (mm)\n",
    "# Insulin 2-Hour Serum insulin (lh/ml)\n",
    "# BMI - Body mass index [weight in kg/(Height in m)]\n",
    "# DPF - Diabetes pedigree function\n",
    "# Age - Age (years)\n",
    "# Outcome - Binary value indicating non-diabetic /diabetic Factor [0,1]\n",
    "\n",
    "df = pd.read_csv('../../data/pima-indians-diabetes.data.txt')\n",
    "df.info()\n",
    "#================================================================================"
   ]
  },
  {
   "cell_type": "code",
   "execution_count": 3,
   "metadata": {},
   "outputs": [
    {
     "data": {
      "text/plain": [
       "0.239"
      ]
     },
     "execution_count": 3,
     "metadata": {},
     "output_type": "execute_result"
    }
   ],
   "source": [
    "aa=gini(y_true=df['Outcome'], y_pred=df['Preg'])\n",
    "aa"
   ]
  },
  {
   "cell_type": "code",
   "execution_count": null,
   "metadata": {},
   "outputs": [
    {
     "ename": "UnboundLocalError",
     "evalue": "cannot access local variable 'binned_feature' where it is not associated with a value",
     "output_type": "error",
     "traceback": [
      "\u001b[1;31m---------------------------------------------------------------------------\u001b[0m",
      "\u001b[1;31mUnboundLocalError\u001b[0m                         Traceback (most recent call last)",
      "Cell \u001b[1;32mIn[4], line 4\u001b[0m\n\u001b[0;32m      1\u001b[0m \u001b[38;5;66;03m#df['Preg'].value_counts().sort_index()\u001b[39;00m\n\u001b[1;32m----> 4\u001b[0m \u001b[43mwoe_iv_calc\u001b[49m\u001b[43m(\u001b[49m\u001b[43my_true\u001b[49m\u001b[38;5;241;43m=\u001b[39;49m\u001b[43mdf\u001b[49m\u001b[43m[\u001b[49m\u001b[38;5;124;43m'\u001b[39;49m\u001b[38;5;124;43mOutcome\u001b[39;49m\u001b[38;5;124;43m'\u001b[39;49m\u001b[43m]\u001b[49m\u001b[43m,\u001b[49m\u001b[43m \u001b[49m\u001b[43mfeature\u001b[49m\u001b[38;5;241;43m=\u001b[39;49m\u001b[43mdf\u001b[49m\u001b[43m[\u001b[49m\u001b[38;5;124;43m'\u001b[39;49m\u001b[38;5;124;43mPreg\u001b[39;49m\u001b[38;5;124;43m'\u001b[39;49m\u001b[43m]\u001b[49m\u001b[43m)\u001b[49m\n",
      "File \u001b[1;32mc:\\Users\\markt\\zGitRepos\\mt\\src\\mt\\univariate.py:76\u001b[0m, in \u001b[0;36mwoe_iv_calc\u001b[1;34m(y_true, feature, num_bins)\u001b[0m\n\u001b[0;32m     73\u001b[0m     binned_feature\u001b[38;5;241m=\u001b[39mfeature\n\u001b[0;32m     75\u001b[0m \u001b[38;5;66;03m# Calculate WoE\u001b[39;00m\n\u001b[1;32m---> 76\u001b[0m woe_table\u001b[38;5;241m=\u001b[39mpd\u001b[38;5;241m.\u001b[39mcrosstab(index\u001b[38;5;241m=\u001b[39m\u001b[43mbinned_feature\u001b[49m,columns\u001b[38;5;241m=\u001b[39my_true)\n\u001b[0;32m     77\u001b[0m woe_table[\u001b[38;5;124m'\u001b[39m\u001b[38;5;124mTotal\u001b[39m\u001b[38;5;124m'\u001b[39m]\u001b[38;5;241m=\u001b[39mwoe_table[\u001b[38;5;241m0\u001b[39m] \u001b[38;5;241m+\u001b[39m woe_table[\u001b[38;5;241m1\u001b[39m]\n\u001b[0;32m     78\u001b[0m woe_table[\u001b[38;5;124m'\u001b[39m\u001b[38;5;124mP0\u001b[39m\u001b[38;5;124m'\u001b[39m]\u001b[38;5;241m=\u001b[39mwoe_table[\u001b[38;5;241m0\u001b[39m] \u001b[38;5;241m/\u001b[39m woe_table[\u001b[38;5;241m0\u001b[39m]\u001b[38;5;241m.\u001b[39msum()\n",
      "\u001b[1;31mUnboundLocalError\u001b[0m: cannot access local variable 'binned_feature' where it is not associated with a value"
     ]
    }
   ],
   "source": [
    "#df['Preg'].value_counts().sort_index()\n",
    "\n"
   ]
  }
 ],
 "metadata": {
  "kernelspec": {
   "display_name": "mt-fAeKq3nq",
   "language": "python",
   "name": "python3"
  },
  "language_info": {
   "codemirror_mode": {
    "name": "ipython",
    "version": 3
   },
   "file_extension": ".py",
   "mimetype": "text/x-python",
   "name": "python",
   "nbconvert_exporter": "python",
   "pygments_lexer": "ipython3",
   "version": "3.12.7"
  }
 },
 "nbformat": 4,
 "nbformat_minor": 2
}
