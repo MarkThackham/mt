{
 "cells": [
  {
   "cell_type": "code",
   "execution_count": 3,
   "metadata": {},
   "outputs": [
    {
     "data": {
      "text/plain": [
       "['c:\\\\Users\\\\markt\\\\.virtualenvs\\\\mt-1ygtOPBu\\\\Scripts\\\\python313.zip',\n",
       " 'C:\\\\Program Files\\\\Python\\\\Python313\\\\DLLs',\n",
       " 'C:\\\\Program Files\\\\Python\\\\Python313\\\\Lib',\n",
       " 'C:\\\\Program Files\\\\Python\\\\Python313',\n",
       " 'c:\\\\Users\\\\markt\\\\.virtualenvs\\\\mt-1ygtOPBu',\n",
       " '',\n",
       " 'c:\\\\Users\\\\markt\\\\.virtualenvs\\\\mt-1ygtOPBu\\\\Lib\\\\site-packages',\n",
       " 'c:\\\\Users\\\\markt\\\\.virtualenvs\\\\mt-1ygtOPBu\\\\Lib\\\\site-packages\\\\win32',\n",
       " 'c:\\\\Users\\\\markt\\\\.virtualenvs\\\\mt-1ygtOPBu\\\\Lib\\\\site-packages\\\\win32\\\\lib',\n",
       " 'c:\\\\Users\\\\markt\\\\.virtualenvs\\\\mt-1ygtOPBu\\\\Lib\\\\site-packages\\\\Pythonwin',\n",
       " '../src/mt',\n",
       " '../src/mt']"
      ]
     },
     "execution_count": 3,
     "metadata": {},
     "output_type": "execute_result"
    }
   ],
   "source": [
    "import sys\n",
    "sys.path.append('../src/mt')  # Add the path to the src directory\n",
    "\n",
    "sys.path\n"
   ]
  },
  {
   "cell_type": "code",
   "execution_count": null,
   "metadata": {},
   "outputs": [
    {
     "data": {
      "text/plain": [
       "['c:\\\\Users\\\\markt\\\\.virtualenvs\\\\mt-1ygtOPBu\\\\Scripts\\\\python313.zip',\n",
       " 'C:\\\\Program Files\\\\Python\\\\Python313\\\\DLLs',\n",
       " 'C:\\\\Program Files\\\\Python\\\\Python313\\\\Lib',\n",
       " 'C:\\\\Program Files\\\\Python\\\\Python313',\n",
       " 'c:\\\\Users\\\\markt\\\\.virtualenvs\\\\mt-1ygtOPBu',\n",
       " '',\n",
       " 'c:\\\\Users\\\\markt\\\\.virtualenvs\\\\mt-1ygtOPBu\\\\Lib\\\\site-packages',\n",
       " 'c:\\\\Users\\\\markt\\\\.virtualenvs\\\\mt-1ygtOPBu\\\\Lib\\\\site-packages\\\\win32',\n",
       " 'c:\\\\Users\\\\markt\\\\.virtualenvs\\\\mt-1ygtOPBu\\\\Lib\\\\site-packages\\\\win32\\\\lib',\n",
       " 'c:\\\\Users\\\\markt\\\\.virtualenvs\\\\mt-1ygtOPBu\\\\Lib\\\\site-packages\\\\Pythonwin',\n",
       " '../src/mt']"
      ]
     },
     "execution_count": 2,
     "metadata": {},
     "output_type": "execute_result"
    }
   ],
   "source": []
  }
 ],
 "metadata": {
  "kernelspec": {
   "display_name": "mt-1ygtOPBu",
   "language": "python",
   "name": "python3"
  },
  "language_info": {
   "codemirror_mode": {
    "name": "ipython",
    "version": 3
   },
   "file_extension": ".py",
   "mimetype": "text/x-python",
   "name": "python",
   "nbconvert_exporter": "python",
   "pygments_lexer": "ipython3",
   "version": "3.13.0"
  }
 },
 "nbformat": 4,
 "nbformat_minor": 2
}
